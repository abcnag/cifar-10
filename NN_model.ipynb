# imports
from tensorflow.keras.models import Sequential,Model
from tensorflow.keras.layers import Conv2D,Dense,Flatten,Dropout,BatchNormalization,MaxPooling2D,LSTM,Reshape,Input,Concatenate
from tensorflow.keras.datasets import cifar10
from tensorflow.keras.utils import to_categorical
from tensorflow import keras
import numpy as np

# load data
(X_train,Y_train) , (X_test,Y_test) = cifar10.load_data()
X_train = X_train.astype('float64') / 255.0
X_test = X_test.astype('float64') / 255.0
Y_train = to_categorical(Y_train)
Y_test = to_categorical(Y_test)

# Initializers
He = keras.initializers.VarianceScaling(scale=2 , mode='fan_in')
Glorot = keras.initializers.VarianceScaling(scale=1 , mode='fan_avg')
LeCun = keras.initializers.VarianceScaling(scale=1 , mode='fan_in')

# Prevent overfitting
L1 = keras.regularizers.L1
L2 = keras.regularizers.L2
L1L2 = keras.regularizers.L1L2
Max_Norm = keras.constraints.max_norm(1.0)

# make a wide and deep model

input_ = Input(shape=(32,32,3))
l1 = (Conv2D(8, (3, 3), activation='elu', kernel_initializer=He, padding='same', input_shape=(32, 32, 3)))(input_)
l2 = (Conv2D(16, (3, 3), activation='elu', kernel_initializer=He, padding='same'))(l1)
l3 = (Conv2D(24, (3, 3), activation='elu', kernel_initializer=He, padding='same'))(l2)
l4 = (MaxPooling2D(pool_size=(2, 2)))(l3) 
l5 = (Dropout(0.4))(l4)
l6 = (Conv2D(32, (3, 3), activation='selu', kernel_initializer=He, padding='same'))(l5)
l7 = (Conv2D(40, (3, 3), activation='selu', kernel_initializer=He, padding='same'))(l6)
l8 = (Conv2D(48, (3, 3), activation='selu', kernel_initializer=He, padding='same'))(l7)
l9 = (MaxPooling2D(pool_size=(2, 2)))(l8)
l10 = (Dropout(0.4))(l9)
l11 = (Conv2D(64, (3, 3), activation='selu', kernel_initializer=He, padding='same'))(l10)
c1 = (Flatten()(l11))
c2 = (Flatten()(input_))
lc2 = (Dense(64,activation='selu',kernel_initializer=He))(c2)
l12 = (Concatenate()([c1,lc2]))
l13 = (Dense(128, activation='selu', kernel_initializer=He))(l12)
l14 = (Dropout(0.3))(l13)
output_ = (Dense(10, activation='softmax'))(l14)
#---#
model = Model(inputs=input_,outputs=output_)

# Best Optimizer
Adam = keras.optimizers.Adam(
    learning_rate=0.001,
    beta_1=0.9,
    beta_2=0.999,
    epsilon=1e-07,
)

# compile & train model
model.compile(loss='categorical_crossentropy',optimizer=Adam,metrics=['accuracy'])
model.fit(X_train,Y_train,validation_data=(X_test,Y_test),epochs=30)
